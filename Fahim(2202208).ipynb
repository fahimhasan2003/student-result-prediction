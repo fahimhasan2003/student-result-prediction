{
 "cells": [
  {
   "cell_type": "code",
   "execution_count": null,
   "id": "ef1cb2cc-349c-4fd5-ace6-f638e779de5e",
   "metadata": {},
   "outputs": [],
   "source": [
    "# Step 1: Import libraries\n",
    "import pandas as pd\n",
    "import numpy as np\n",
    "import seaborn as sns\n",
    "import matplotlib.pyplot as plt\n",
    "from sklearn.model_selection import train_test_split\n",
    "from sklearn.linear_model import LogisticRegression\n",
    "from sklearn.metrics import accuracy_score, confusion_matrix, classification_report\n",
    "\n",
    "# Step 2: Create dataset\n",
    "data = {\n",
    "    'hours_studied': [2, 4, 6, 8, 10, 1, 3, 5, 7, 9],\n",
    "    'attendance': [60, 70, 80, 90, 95, 50, 65, 75, 85, 92],\n",
    "    'result': [0, 0, 1, 1, 1, 0, 0, 1, 1, 1]  # 0 = Fail, 1 = Pass\n",
    "}\n",
    "\n",
    "df = pd.DataFrame(data)\n",
    "print(\"📌 Dataset:\")\n",
    "print(df)\n",
    "\n",
    "# Step 3: Data visualization\n",
    "plt.figure(figsize=(6,4))\n",
    "sns.scatterplot(data=df, x=\"hours_studied\", y=\"attendance\", hue=\"result\", s=100, palette=\"Set2\")\n",
    "plt.title(\"Student Result Visualization (Pass/Fail)\")\n",
    "plt.xlabel(\"Hours Studied\")\n",
    "plt.ylabel(\"Attendance (%)\")\n",
    "plt.show()\n",
    "\n",
    "# Step 4: Features & Target\n",
    "X = df[['hours_studied', 'attendance']]\n",
    "y = df['result']\n",
    "\n",
    "# Step 5: Train-Test Split\n",
    "X_train, X_test, y_train, y_test = train_test_split(X, y, test_size=0.3, random_state=42)\n",
    "\n",
    "# Step 6: Train Logistic Regression Model\n",
    "model = LogisticRegression()\n",
    "model.fit(X_train, y_train)\n",
    "\n",
    "# Step 7: Predictions\n",
    "y_pred = model.predict(X_test)\n",
    "\n",
    "print(\"\\n✅ Model Evaluation\")\n",
    "print(\"Accuracy:\", accuracy_score(y_test, y_pred))\n",
    "print(\"\\nConfusion Matrix:\\n\", confusion_matrix(y_test, y_pred))\n",
    "print(\"\\nClassification Report:\\n\", classification_report(y_test, y_pred))\n",
    "\n",
    "# Step 8: New Student Prediction\n",
    "new_student = [[6, 85]]  # Example: studied 6 hours, attendance 85%\n",
    "prediction = model.predict(new_student)\n",
    "\n",
    "print(\"\\n🎯 Prediction for new student (6 hrs study, 85% attendance):\",\n",
    "      \"PASS 🎉\" if prediction[0] == 1 else \"FAIL ❌\")\n"
   ]
  },
  {
   "cell_type": "code",
   "execution_count": null,
   "id": "90cea32f-9c87-4ed6-b370-748f44ceab6b",
   "metadata": {},
   "outputs": [],
   "source": []
  }
 ],
 "metadata": {
  "kernelspec": {
   "display_name": "Python 3 (ipykernel)",
   "language": "python",
   "name": "python3"
  },
  "language_info": {
   "codemirror_mode": {
    "name": "ipython",
    "version": 3
   },
   "file_extension": ".py",
   "mimetype": "text/x-python",
   "name": "python",
   "nbconvert_exporter": "python",
   "pygments_lexer": "ipython3",
   "version": "3.13.5"
  }
 },
 "nbformat": 4,
 "nbformat_minor": 5
}
